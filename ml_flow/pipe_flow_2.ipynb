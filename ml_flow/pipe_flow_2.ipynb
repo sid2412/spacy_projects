{
 "cells": [
  {
   "cell_type": "markdown",
   "metadata": {},
   "source": [
    "### This pipe follows the following pipeline\n",
    "- split text in train/test/valid sets\n",
    "- preprocess each set into spacy format\n",
    "- update labels on test/valid sets to match train sets\n",
    "- train spacy format\n",
    "- evaluate model on unseen test set\n",
    "- make predictions"
   ]
  },
  {
   "cell_type": "markdown",
   "metadata": {},
   "source": [
    "### Split dataset into train/test/valid sets"
   ]
  },
  {
   "cell_type": "code",
   "execution_count": 5,
   "metadata": {},
   "outputs": [
    {
     "name": "stdout",
     "output_type": "stream",
     "text": [
      "\n",
      "Reading data..\n"
     ]
    },
    {
     "name": "stderr",
     "output_type": "stream",
     "text": [
      "/Library/Frameworks/Python.framework/Versions/3.7/lib/python3.7/site-packages/IPython/core/interactiveshell.py:3254: DtypeWarning: Columns (5,11) have mixed types.Specify dtype option on import or set low_memory=False.\n",
      "  if (await self.run_code(code, result,  async_=asy)):\n"
     ]
    },
    {
     "name": "stdout",
     "output_type": "stream",
     "text": [
      "\n",
      "Selected 1000 rows of dataset\n",
      "\n",
      "Splitting dataset in train and test sets..\n",
      "\n",
      "Shape of train_X: (722,)\n",
      "Shape of train_y: (722,)\n",
      "\n",
      "Shape of test_X: (150,)\n",
      "Shape of test_y: (150,)\n",
      "\n",
      "Shape of valid_X: (128,)\n",
      "Shape of valid_y: (128,)\n",
      "\n",
      "Text split complete for preprocessing\n"
     ]
    }
   ],
   "source": [
    "from _1_split_dataset import split_dataset\n",
    "train_X, train_y, test_X, test_y, valid_X, valid_y = split_dataset('../consumer_complaints.csv',\n",
    "                                                                  n_rows=1000)"
   ]
  },
  {
   "cell_type": "markdown",
   "metadata": {},
   "source": [
    "### Preprocess data series into spacy format"
   ]
  },
  {
   "cell_type": "code",
   "execution_count": 6,
   "metadata": {},
   "outputs": [
    {
     "name": "stdout",
     "output_type": "stream",
     "text": [
      "\n",
      "Cleaning text..\n",
      "\n",
      "Text cleaning complete\n",
      "\n",
      "Number of labels: 11\n",
      "['Credit reporting', 'Debt collection', 'Credit card', 'Student loan', 'Consumer Loan', 'Mortgage', 'Bank account or service', 'Prepaid card', 'Money transfers', 'Other financial service', 'Payday loan']\n",
      "\n",
      "Converting data to spacy format\n",
      "\n",
      "Data is now ready to be trained\n"
     ]
    }
   ],
   "source": [
    "# Preprocess train data\n",
    "from _2_preprocess_series import preprocess_series\n",
    "train_label_values, train_data, train_texts, train_labels = preprocess_series(train_X, train_y)"
   ]
  },
  {
   "cell_type": "code",
   "execution_count": 7,
   "metadata": {},
   "outputs": [
    {
     "name": "stdout",
     "output_type": "stream",
     "text": [
      "\n",
      "Cleaning text..\n",
      "\n",
      "Text cleaning complete\n",
      "\n",
      "Number of labels: 10\n",
      "['Credit card', 'Debt collection', 'Bank account or service', 'Mortgage', 'Prepaid card', 'Credit reporting', 'Consumer Loan', 'Student loan', 'Payday loan', 'Money transfers']\n",
      "\n",
      "Converting data to spacy format\n",
      "\n",
      "Data is now ready to be trained\n"
     ]
    }
   ],
   "source": [
    "# preprocess test set\n",
    "test_label_values, test_data, test_texts, test_labels = preprocess_series(test_X, test_y)"
   ]
  },
  {
   "cell_type": "code",
   "execution_count": 8,
   "metadata": {},
   "outputs": [
    {
     "name": "stdout",
     "output_type": "stream",
     "text": [
      "\n",
      "Cleaning text..\n",
      "\n",
      "Text cleaning complete\n",
      "\n",
      "Number of labels: 10\n",
      "['Credit reporting', 'Credit card', 'Debt collection', 'Mortgage', 'Prepaid card', 'Student loan', 'Bank account or service', 'Consumer Loan', 'Money transfers', 'Payday loan']\n",
      "\n",
      "Converting data to spacy format\n",
      "\n",
      "Data is now ready to be trained\n"
     ]
    }
   ],
   "source": [
    "# preprocess valid set\n",
    "valid_label_values, valid_data, valid_texts, valid_labels = preprocess_series(valid_X, valid_y)"
   ]
  },
  {
   "cell_type": "markdown",
   "metadata": {},
   "source": [
    "### Update labels"
   ]
  },
  {
   "cell_type": "code",
   "execution_count": 9,
   "metadata": {},
   "outputs": [
    {
     "name": "stdout",
     "output_type": "stream",
     "text": [
      "Label values have been updated\n",
      "\n",
      "Number of labels: 11\n",
      "['Bank account or service', 'Consumer Loan', 'Credit card', 'Credit reporting', 'Debt collection', 'Money transfers', 'Mortgage', 'Payday loan', 'Prepaid card', 'Student loan', 'Other financial service']\n"
     ]
    }
   ],
   "source": [
    "# update labels on test set to match train set\n",
    "from _4_update_labels import update_labels\n",
    "test_label_values, test_data, test_texts, test_labels = update_labels(train_label_values, valid_label_values, valid_data)"
   ]
  },
  {
   "cell_type": "code",
   "execution_count": 10,
   "metadata": {},
   "outputs": [
    {
     "name": "stdout",
     "output_type": "stream",
     "text": [
      "Label values have been updated\n",
      "\n",
      "Number of labels: 11\n",
      "['Bank account or service', 'Consumer Loan', 'Credit card', 'Credit reporting', 'Debt collection', 'Money transfers', 'Mortgage', 'Payday loan', 'Prepaid card', 'Student loan', 'Other financial service']\n"
     ]
    }
   ],
   "source": [
    "# update labels on valid set to match train set\n",
    "valid_label_values, valid_data, valid_texts, valid_labels = update_labels(train_label_values, valid_label_values, valid_data)"
   ]
  },
  {
   "cell_type": "markdown",
   "metadata": {},
   "source": [
    "### Train"
   ]
  },
  {
   "cell_type": "code",
   "execution_count": 13,
   "metadata": {
    "scrolled": true
   },
   "outputs": [
    {
     "name": "stdout",
     "output_type": "stream",
     "text": [
      "\n",
      "Model loading complete\n",
      "\n",
      "Training the model..\n",
      "\n",
      "Iteration: 1\n",
      "                         precision    recall  f1-score   support\n",
      "\n",
      "Bank account or service       0.00      0.00      0.00        10\n",
      "          Consumer Loan       0.00      0.00      0.00         7\n",
      "            Credit card       0.62      0.53      0.57        15\n",
      "       Credit reporting       0.37      0.30      0.33        23\n",
      "        Debt collection       0.47      0.67      0.55        36\n",
      "        Money transfers       0.00      0.00      0.00         1\n",
      "               Mortgage       0.58      0.87      0.69        30\n",
      "            Payday loan       0.00      0.00      0.00         1\n",
      "           Prepaid card       0.00      0.00      0.00         1\n",
      "           Student loan       0.00      0.00      0.00         4\n",
      "\n",
      "               accuracy                           0.51       128\n",
      "              macro avg       0.20      0.24      0.21       128\n",
      "           weighted avg       0.41      0.51      0.44       128\n",
      "\n",
      "\n",
      "tTextcat_loss: 9.425\t f1_score: 0.445\t accuracy_score: 0.508\n",
      "\n",
      "Elapsed time: 0.97 minutes\n",
      "\n",
      "Iteration: 2\n",
      "                         precision    recall  f1-score   support\n",
      "\n",
      "Bank account or service       0.00      0.00      0.00        10\n",
      "          Consumer Loan       0.00      0.00      0.00         7\n",
      "            Credit card       0.41      0.73      0.52        15\n",
      "       Credit reporting       0.47      0.65      0.55        23\n",
      "        Debt collection       0.69      0.61      0.65        36\n",
      "        Money transfers       0.00      0.00      0.00         1\n",
      "               Mortgage       0.74      0.87      0.80        30\n",
      "            Payday loan       0.00      0.00      0.00         1\n",
      "           Prepaid card       0.00      0.00      0.00         1\n",
      "           Student loan       0.00      0.00      0.00         4\n",
      "\n",
      "               accuracy                           0.58       128\n",
      "              macro avg       0.23      0.29      0.25       128\n",
      "           weighted avg       0.50      0.58      0.53       128\n",
      "\n",
      "\n",
      "tTextcat_loss: 7.559\t f1_score: 0.529\t accuracy_score: 0.578\n",
      "\n",
      "Elapsed time: 0.94 minutes\n",
      "\n",
      "Iteration: 3\n",
      "                         precision    recall  f1-score   support\n",
      "\n",
      "Bank account or service       1.00      0.30      0.46        10\n",
      "          Consumer Loan       0.00      0.00      0.00         7\n",
      "            Credit card       0.42      0.53      0.47        15\n",
      "       Credit reporting       0.68      0.65      0.67        23\n",
      "        Debt collection       0.57      0.83      0.67        36\n",
      "        Money transfers       0.00      0.00      0.00         1\n",
      "               Mortgage       0.84      0.87      0.85        30\n",
      "            Payday loan       0.00      0.00      0.00         1\n",
      "           Prepaid card       0.00      0.00      0.00         1\n",
      "           Student loan       0.00      0.00      0.00         4\n",
      "\n",
      "               accuracy                           0.64       128\n",
      "              macro avg       0.35      0.32      0.31       128\n",
      "           weighted avg       0.61      0.64      0.60       128\n",
      "\n",
      "\n",
      "tTextcat_loss: 6.333\t f1_score: 0.600\t accuracy_score: 0.641\n",
      "\n",
      "Elapsed time: 1.0 minutes\n",
      "\n",
      "Iteration: 4\n",
      "                         precision    recall  f1-score   support\n",
      "\n",
      "Bank account or service       0.56      0.50      0.53        10\n",
      "          Consumer Loan       0.50      0.14      0.22         7\n",
      "            Credit card       0.58      0.73      0.65        15\n",
      "       Credit reporting       0.88      0.65      0.75        23\n",
      "        Debt collection       0.68      0.83      0.75        36\n",
      "        Money transfers       0.00      0.00      0.00         1\n",
      "               Mortgage       0.75      0.90      0.82        30\n",
      "            Payday loan       0.00      0.00      0.00         1\n",
      "           Prepaid card       0.00      0.00      0.00         1\n",
      "           Student loan       0.00      0.00      0.00         4\n",
      "\n",
      "               accuracy                           0.70       128\n",
      "              macro avg       0.39      0.38      0.37       128\n",
      "           weighted avg       0.66      0.70      0.67       128\n",
      "\n",
      "\n",
      "tTextcat_loss: 5.048\t f1_score: 0.667\t accuracy_score: 0.695\n",
      "\n",
      "Elapsed time: 1.07 minutes\n",
      "\n",
      "Iteration: 5\n",
      "                         precision    recall  f1-score   support\n",
      "\n",
      "Bank account or service       0.50      0.70      0.58        10\n",
      "          Consumer Loan       0.50      0.14      0.22         7\n",
      "            Credit card       0.59      0.67      0.62        15\n",
      "       Credit reporting       0.88      0.61      0.72        23\n",
      "        Debt collection       0.67      0.86      0.76        36\n",
      "        Money transfers       0.00      0.00      0.00         1\n",
      "               Mortgage       0.85      0.93      0.89        30\n",
      "            Payday loan       0.00      0.00      0.00         1\n",
      "           Prepaid card       0.00      0.00      0.00         1\n",
      "           Student loan       0.00      0.00      0.00         4\n",
      "\n",
      "               accuracy                           0.71       128\n",
      "              macro avg       0.40      0.39      0.38       128\n",
      "           weighted avg       0.68      0.71      0.68       128\n",
      "\n",
      "\n",
      "tTextcat_loss: 4.469\t f1_score: 0.681\t accuracy_score: 0.711\n",
      "\n",
      "Elapsed time: 1.08 minutes\n",
      "\n",
      "Iteration: 6\n",
      "                         precision    recall  f1-score   support\n",
      "\n",
      "Bank account or service       0.60      0.60      0.60        10\n",
      "          Consumer Loan       0.43      0.43      0.43         7\n",
      "            Credit card       0.53      0.67      0.59        15\n",
      "       Credit reporting       0.82      0.61      0.70        23\n",
      "        Debt collection       0.71      0.81      0.75        36\n",
      "        Money transfers       0.00      0.00      0.00         1\n",
      "               Mortgage       0.79      0.90      0.84        30\n",
      "            Payday loan       0.00      0.00      0.00         1\n",
      "           Prepaid card       0.00      0.00      0.00         1\n",
      "           Student loan       0.00      0.00      0.00         4\n",
      "\n",
      "               accuracy                           0.70       128\n",
      "              macro avg       0.39      0.40      0.39       128\n",
      "           weighted avg       0.67      0.70      0.67       128\n",
      "\n",
      "\n",
      "tTextcat_loss: 3.752\t f1_score: 0.675\t accuracy_score: 0.695\n",
      "\n",
      "Elapsed time: 1.38 minutes\n",
      "\n",
      "Iteration: 7\n",
      "                         precision    recall  f1-score   support\n",
      "\n",
      "Bank account or service       0.70      0.70      0.70        10\n",
      "          Consumer Loan       0.22      0.29      0.25         7\n",
      "            Credit card       0.53      0.60      0.56        15\n",
      "       Credit reporting       0.82      0.61      0.70        23\n",
      "        Debt collection       0.68      0.83      0.75        36\n",
      "        Money transfers       0.00      0.00      0.00         1\n",
      "               Mortgage       0.87      0.87      0.87        30\n",
      "            Payday loan       0.00      0.00      0.00         1\n",
      "           Prepaid card       0.00      0.00      0.00         1\n",
      "           Student loan       0.00      0.00      0.00         4\n",
      "\n",
      "               accuracy                           0.69       128\n",
      "              macro avg       0.38      0.39      0.38       128\n",
      "           weighted avg       0.67      0.69      0.67       128\n",
      "\n",
      "\n",
      "tTextcat_loss: 3.022\t f1_score: 0.674\t accuracy_score: 0.688\n",
      "\n",
      "Elapsed time: 2.82 minutes\n",
      "\n",
      "Iteration: 8\n",
      "                         precision    recall  f1-score   support\n",
      "\n",
      "Bank account or service       0.78      0.70      0.74        10\n",
      "          Consumer Loan       0.25      0.29      0.27         7\n",
      "            Credit card       0.59      0.67      0.62        15\n",
      "       Credit reporting       0.79      0.65      0.71        23\n",
      "        Debt collection       0.71      0.81      0.75        36\n",
      "        Money transfers       0.00      0.00      0.00         1\n",
      "               Mortgage       0.87      0.90      0.89        30\n",
      "            Payday loan       0.00      0.00      0.00         1\n",
      "           Prepaid card       0.00      0.00      0.00         1\n",
      "           Student loan       0.00      0.00      0.00         4\n",
      "\n",
      "               accuracy                           0.70       128\n",
      "              macro avg       0.40      0.40      0.40       128\n",
      "           weighted avg       0.69      0.70      0.69       128\n",
      "\n",
      "\n",
      "tTextcat_loss: 2.685\t f1_score: 0.693\t accuracy_score: 0.703\n",
      "\n",
      "Elapsed time: 2.71 minutes\n",
      "\n",
      "Iteration: 9\n"
     ]
    },
    {
     "name": "stdout",
     "output_type": "stream",
     "text": [
      "                         precision    recall  f1-score   support\n",
      "\n",
      "Bank account or service       0.54      0.70      0.61        10\n",
      "          Consumer Loan       0.40      0.29      0.33         7\n",
      "            Credit card       0.56      0.60      0.58        15\n",
      "       Credit reporting       0.88      0.65      0.75        23\n",
      "        Debt collection       0.73      0.83      0.78        36\n",
      "        Money transfers       0.00      0.00      0.00         1\n",
      "               Mortgage       0.82      0.90      0.86        30\n",
      "            Payday loan       0.00      0.00      0.00         1\n",
      "           Prepaid card       0.00      0.00      0.00         1\n",
      "           Student loan       0.00      0.00      0.00         4\n",
      "\n",
      "               accuracy                           0.70       128\n",
      "              macro avg       0.39      0.40      0.39       128\n",
      "           weighted avg       0.69      0.70      0.69       128\n",
      "\n",
      "\n",
      "tTextcat_loss: 2.513\t f1_score: 0.689\t accuracy_score: 0.703\n",
      "\n",
      "Elapsed time: 3.17 minutes\n",
      "\n",
      "Iteration: 10\n",
      "                         precision    recall  f1-score   support\n",
      "\n",
      "Bank account or service       0.78      0.70      0.74        10\n",
      "          Consumer Loan       0.38      0.43      0.40         7\n",
      "            Credit card       0.62      0.67      0.65        15\n",
      "       Credit reporting       0.88      0.65      0.75        23\n",
      "        Debt collection       0.74      0.89      0.81        36\n",
      "        Money transfers       0.00      0.00      0.00         1\n",
      "               Mortgage       0.84      0.90      0.87        30\n",
      "            Payday loan       0.00      0.00      0.00         1\n",
      "           Prepaid card       0.00      0.00      0.00         1\n",
      "           Student loan       0.00      0.00      0.00         4\n",
      "\n",
      "               accuracy                           0.73       128\n",
      "              macro avg       0.42      0.42      0.42       128\n",
      "           weighted avg       0.72      0.73      0.72       128\n",
      "\n",
      "\n",
      "tTextcat_loss: 2.075\t f1_score: 0.722\t accuracy_score: 0.734\n",
      "\n",
      "Elapsed time: 3.88 minutes\n",
      "\n",
      "Training complete\n",
      "\n",
      "Total time: 19.04 minutes\n"
     ]
    },
    {
     "data": {
      "text/plain": [
       "<spacy.lang.en.English at 0x7fd4644356d8>"
      ]
     },
     "execution_count": 13,
     "metadata": {},
     "output_type": "execute_result"
    }
   ],
   "source": [
    "# train spacy model\n",
    "from _5_train_spacy import train_spacy\n",
    "train_spacy(train_label_values, \n",
    "            train_data, \n",
    "            valid_texts, \n",
    "            valid_labels, \n",
    "            10, \n",
    "            'ensemble', \n",
    "            0.3,\n",
    "            3e-3,\n",
    "            'test_model_02')"
   ]
  },
  {
   "cell_type": "markdown",
   "metadata": {},
   "source": [
    "### Evaluate"
   ]
  },
  {
   "cell_type": "code",
   "execution_count": 14,
   "metadata": {},
   "outputs": [
    {
     "name": "stdout",
     "output_type": "stream",
     "text": [
      "\n",
      "Model loading complete\n",
      "Normalized confusion matrix\n",
      "                         precision    recall  f1-score   support\n",
      "\n",
      "Bank account or service       0.78      0.70      0.74        10\n",
      "          Consumer Loan       0.38      0.43      0.40         7\n",
      "            Credit card       0.62      0.67      0.65        15\n",
      "       Credit reporting       0.88      0.65      0.75        23\n",
      "        Debt collection       0.74      0.89      0.81        36\n",
      "        Money transfers       0.00      0.00      0.00         1\n",
      "               Mortgage       0.84      0.90      0.87        30\n",
      "            Payday loan       0.00      0.00      0.00         1\n",
      "           Prepaid card       0.00      0.00      0.00         1\n",
      "           Student loan       0.00      0.00      0.00         4\n",
      "\n",
      "               accuracy                           0.73       128\n",
      "              macro avg       0.42      0.42      0.42       128\n",
      "           weighted avg       0.72      0.73      0.72       128\n",
      "\n"
     ]
    },
    {
     "data": {
      "image/png": "[encoded data removed]",
      "text/plain": [
       "<Figure size 720x576 with 2 Axes>"
      ]
     },
     "metadata": {
      "needs_background": "light"
     },
     "output_type": "display_data"
    }
   ],
   "source": [
    "from _6_evaluate import evaluate\n",
    "evaluate(test_texts, test_labels, 'test_model_02', train_label_values)"
   ]
  },
  {
   "cell_type": "markdown",
   "metadata": {},
   "source": [
    "### Make predictions"
   ]
  },
  {
   "cell_type": "code",
   "execution_count": 15,
   "metadata": {},
   "outputs": [
    {
     "name": "stdout",
     "output_type": "stream",
     "text": [
      "\n",
      "The model predicts: Credit reporting\n"
     ]
    }
   ],
   "source": [
    "from _7_make_predictions import make_predictions\n",
    "make_predictions('test_model_02', test_texts[5])"
   ]
  },
  {
   "cell_type": "code",
   "execution_count": 19,
   "metadata": {},
   "outputs": [
    {
     "name": "stdout",
     "output_type": "stream",
     "text": [
      "Text:\n",
      " credit karma reporting open accounts credit report closed due bankruptcythe open accounts medical xxxx credit karma wrongfully reporting equifax already fixed problem\n",
      "\n",
      "The true label is: Credit reporting\n",
      "\n",
      "The model predicts: Credit reporting\n"
     ]
    }
   ],
   "source": [
    "from _7_make_predictions import comp_pred\n",
    "comp_pred('test_model_02', test_texts, test_labels, 5)"
   ]
  }
 ],
 "metadata": {
  "kernelspec": {
   "display_name": "Python 3",
   "language": "python",
   "name": "python3"
  },
  "language_info": {
   "codemirror_mode": {
    "name": "ipython",
    "version": 3
   },
   "file_extension": ".py",
   "mimetype": "text/x-python",
   "name": "python",
   "nbconvert_exporter": "python",
   "pygments_lexer": "ipython3",
   "version": "3.7.0"
  }
 },
 "nbformat": 4,
 "nbformat_minor": 4
}
